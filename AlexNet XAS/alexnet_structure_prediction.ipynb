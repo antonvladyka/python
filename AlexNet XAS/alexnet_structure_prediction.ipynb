{
 "cells": [
  {
   "cell_type": "markdown",
   "metadata": {
    "id": "qFXUAGNm46-y"
   },
   "source": [
    "# Analysis of XPS spectra using ML algorithms"
   ]
  },
  {
   "cell_type": "markdown",
   "metadata": {
    "id": "4skdIzXNSrxW"
   },
   "source": [
    "## Init"
   ]
  },
  {
   "cell_type": "markdown",
   "metadata": {
    "id": "k04YJl7xRf2o"
   },
   "source": [
    "### Load necessary libraries"
   ]
  },
  {
   "cell_type": "code",
   "execution_count": 1,
   "metadata": {
    "executionInfo": {
     "elapsed": 4560,
     "status": "ok",
     "timestamp": 1613461611205,
     "user": {
      "displayName": "Anton Vladyka",
      "photoUrl": "https://lh3.googleusercontent.com/a-/AOh14Gh23ADXPQ9T1DR8tKeqMhyt-bqv_-5iQ_KLfkvAyw=s64",
      "userId": "07862627771254057760"
     },
     "user_tz": -120
    },
    "id": "dMNI5-ma46-0"
   },
   "outputs": [],
   "source": [
    "import numpy as np\n",
    "import matplotlib.pyplot as plt\n",
    "import matplotlib.cm as cm\n",
    "import scipy.constants as constants\n",
    "import torch\n",
    "import torch.nn as nn\n",
    "import torch.optim as optim\n",
    "import torch.nn.functional as F\n",
    "from torchvision import transforms\n",
    "from tqdm import trange\n",
    "from PIL import Image\n",
    "import os\n",
    "from matplotlib.cm import get_cmap\n",
    "from sklearn.decomposition import PCA\n",
    "import pandas as pd"
   ]
  },
  {
   "cell_type": "code",
   "execution_count": 15,
   "metadata": {
    "executionInfo": {
     "elapsed": 517,
     "status": "ok",
     "timestamp": 1613461633670,
     "user": {
      "displayName": "Anton Vladyka",
      "photoUrl": "https://lh3.googleusercontent.com/a-/AOh14Gh23ADXPQ9T1DR8tKeqMhyt-bqv_-5iQ_KLfkvAyw=s64",
      "userId": "07862627771254057760"
     },
     "user_tz": -120
    },
    "id": "SNJp6OezT0cx"
   },
   "outputs": [],
   "source": [
    "path = '.'\n",
    "data = f'{path}/data/'"
   ]
  },
  {
   "cell_type": "code",
   "execution_count": 16,
   "metadata": {
    "colab": {
     "base_uri": "https://localhost:8080/"
    },
    "executionInfo": {
     "elapsed": 513,
     "status": "ok",
     "timestamp": 1613461635629,
     "user": {
      "displayName": "Anton Vladyka",
      "photoUrl": "https://lh3.googleusercontent.com/a-/AOh14Gh23ADXPQ9T1DR8tKeqMhyt-bqv_-5iQ_KLfkvAyw=s64",
      "userId": "07862627771254057760"
     },
     "user_tz": -120
    },
    "id": "2N9QOq-ZacVX",
    "outputId": "f0ac8d4a-9a9c-4796-f6a1-8cc32a45c147"
   },
   "outputs": [
    {
     "data": {
      "text/plain": [
       "device(type='cpu')"
      ]
     },
     "execution_count": 16,
     "metadata": {},
     "output_type": "execute_result"
    }
   ],
   "source": [
    "device = torch.device('cuda') if torch.cuda.is_available() else torch.device('cpu')\n",
    "device"
   ]
  },
  {
   "cell_type": "markdown",
   "metadata": {
    "id": "q8RrBkhkSQxE"
   },
   "source": [
    "### Useful functions"
   ]
  },
  {
   "cell_type": "code",
   "execution_count": 18,
   "metadata": {
    "executionInfo": {
     "elapsed": 446,
     "status": "ok",
     "timestamp": 1613461644752,
     "user": {
      "displayName": "Anton Vladyka",
      "photoUrl": "https://lh3.googleusercontent.com/a-/AOh14Gh23ADXPQ9T1DR8tKeqMhyt-bqv_-5iQ_KLfkvAyw=s64",
      "userId": "07862627771254057760"
     },
     "user_tz": -120
    },
    "id": "sUdtlWDXSTUV"
   },
   "outputs": [],
   "source": [
    "def dataLoader(data, batch_size = 128):\n",
    "    N = 0\n",
    "    L = data.shape[0]\n",
    "    if type(data) == torch.Tensor:\n",
    "        indices = torch.arange(0, L)\n",
    "        permutations = torch.randperm(L)\n",
    "        while N < L:\n",
    "            inds = permutations[N:N+batch_size]\n",
    "            N = N + batch_size\n",
    "            yield data[inds, ], indices[inds]\n",
    "    elif type(data) == np.ndarray:\n",
    "        indices = np.arange(L)\n",
    "        permutations = np.random.permutation(L)\n",
    "        while N < L:\n",
    "            inds = permutations[N:N+batch_size]\n",
    "            N = N + batch_size\n",
    "            yield data[inds, ], indices[inds]\n",
    "\n",
    "# standard Alexnet image normalization\n",
    "transform = transforms.Compose([\n",
    "    transforms.ToTensor(),\n",
    "    transforms.Normalize(mean=[0.485, 0.456, 0.406], std=[0.229, 0.224, 0.225]),\n",
    "])\n",
    "\n",
    "# loader with no shuffle\n",
    "def Loader(data, batch_size=128, shuffle=False):\n",
    "    N = 0\n",
    "    L = data.shape[0]\n",
    "    indices = np.arange(L)\n",
    "    while N < L:\n",
    "        inds = indices[N: N+batch_size]\n",
    "        N = N + batch_size\n",
    "        yield data[inds, ], inds"
   ]
  },
  {
   "cell_type": "markdown",
   "metadata": {
    "id": "0nbuJ7BuRsyi"
   },
   "source": [
    "## Data preparation"
   ]
  },
  {
   "cell_type": "code",
   "execution_count": 19,
   "metadata": {},
   "outputs": [],
   "source": [
    "tmp = np.load('data.npz')\n",
    "structures = tmp['structures']\n",
    "spectra = tmp['spectra']"
   ]
  },
  {
   "cell_type": "code",
   "execution_count": 21,
   "metadata": {
    "colab": {
     "base_uri": "https://localhost:8080/",
     "height": 404
    },
    "executionInfo": {
     "elapsed": 4292,
     "status": "ok",
     "timestamp": 1613461752069,
     "user": {
      "displayName": "Anton Vladyka",
      "photoUrl": "https://lh3.googleusercontent.com/a-/AOh14Gh23ADXPQ9T1DR8tKeqMhyt-bqv_-5iQ_KLfkvAyw=s64",
      "userId": "07862627771254057760"
     },
     "user_tz": -120
    },
    "id": "EnI8XcDeqUVR",
    "outputId": "f6b8391a-edd2-4f7f-db15-70d1fd752e9a"
   },
   "outputs": [
    {
     "data": {
      "text/plain": [
       "(531.5, 539.0)"
      ]
     },
     "execution_count": 21,
     "metadata": {},
     "output_type": "execute_result"
    },
    {
     "data": {
      "image/png": "[encoded data removed]",
      "text/plain": [
       "<Figure size 576x432 with 1 Axes>"
      ]
     },
     "metadata": {
      "needs_background": "light"
     },
     "output_type": "display_data"
    }
   ],
   "source": [
    "plt.rcParams['figure.figsize'] = (8,6)\n",
    "fig = plt.figure()\n",
    "plt.plot(z, spectra, c='k', alpha=0.02)\n",
    "plt.xlabel('Energy / eV')\n",
    "plt.ylabel('Intensity / a.u.')\n",
    "plt.title('Typical XAS spectra for water molecule')\n",
    "plt.xlim([531.5, 539])\n",
    "#plt.savefig(f'{path}/figures/{name}_spectra_{N}.png',bbox_inches='tight', dpi=300)"
   ]
  },
  {
   "cell_type": "code",
   "execution_count": 23,
   "metadata": {
    "colab": {
     "base_uri": "https://localhost:8080/",
     "height": 310
    },
    "executionInfo": {
     "elapsed": 83478,
     "status": "ok",
     "timestamp": 1613461873052,
     "user": {
      "displayName": "Anton Vladyka",
      "photoUrl": "https://lh3.googleusercontent.com/a-/AOh14Gh23ADXPQ9T1DR8tKeqMhyt-bqv_-5iQ_KLfkvAyw=s64",
      "userId": "07862627771254057760"
     },
     "user_tz": -120
    },
    "id": "UTQDywLu7I9X",
    "outputId": "b094360c-7a3b-4fcc-e3eb-9dbf4bd3ea5c"
   },
   "outputs": [
    {
     "name": "stderr",
     "output_type": "stream",
     "text": [
      "100%|██████████████████████████████████████████████████████████████████████████████| 1000/1000 [01:01<00:00, 16.18it/s]\n"
     ]
    },
    {
     "data": {
      "text/plain": [
       "<matplotlib.image.AxesImage at 0x20081a70f70>"
      ]
     },
     "execution_count": 23,
     "metadata": {},
     "output_type": "execute_result"
    },
    {
     "data": {
      "image/png": "[encoded data removed]",
      "text/plain": [
       "<Figure size 224x224 with 1 Axes>"
      ]
     },
     "metadata": {
      "needs_background": "light"
     },
     "output_type": "display_data"
    }
   ],
   "source": [
    "''' standard approach\n",
    "- Create a figure with a size of (224/72)x(224/72) inches canvas\n",
    "- Remove axis\n",
    "- Plot the curve\n",
    "- Export the image as PNG\n",
    "- Load the PNG as the image\n",
    "- Transform useing standard AlexNet data normalization procedure \n",
    "'''\n",
    "N = len(structures)\n",
    "images = torch.zeros((N, 3, 224, 224)).to(device)\n",
    "plt.rcParams['figure.figsize'] = (224/72,224/72)\n",
    "fig = plt.figure()\n",
    "ax = fig.add_axes((0,0,1,1))\n",
    "ax.axis('off')\n",
    "for j in trange(N):\n",
    "    ax.plot(z, spectra[:, j], c='k', linewidth=1)\n",
    "    ax.set_ylim()\n",
    "    ax.set_xlim([531.5, 539])\n",
    "    plt.savefig('img.png')\n",
    "    ax.clear()\n",
    "    tmp = plt.imread('img.png')[:,:,:3]\n",
    "    images[j,] = transform(tmp)\n",
    "plt.imshow(tmp)"
   ]
  },
  {
   "cell_type": "markdown",
   "metadata": {
    "id": "c2zP-HJaSBxw"
   },
   "source": [
    "## AlexNet"
   ]
  },
  {
   "cell_type": "code",
   "execution_count": 24,
   "metadata": {
    "executionInfo": {
     "elapsed": 471,
     "status": "ok",
     "timestamp": 1613462254676,
     "user": {
      "displayName": "Anton Vladyka",
      "photoUrl": "https://lh3.googleusercontent.com/a-/AOh14Gh23ADXPQ9T1DR8tKeqMhyt-bqv_-5iQ_KLfkvAyw=s64",
      "userId": "07862627771254057760"
     },
     "user_tz": -120
    },
    "id": "t6s1IbcD7GI2"
   },
   "outputs": [],
   "source": [
    "'''\n",
    "    Implementation of Alexnet is taken directly from torchvision\n",
    "    https://pytorch.org/vision/0.8/_modules/torchvision/models/alexnet.html#alexnet\n",
    "    \n",
    "    'getfeatures' method added to get 256x6x6 = 9216 features\n",
    "    \n",
    "    Pretrained weights loaded from the local file\n",
    "'''\n",
    "\n",
    "class AlexNet(nn.Module):\n",
    "\n",
    "    def __init__(self, num_classes=1000):\n",
    "        super(AlexNet, self).__init__()\n",
    "        self.features = nn.Sequential(\n",
    "            nn.Conv2d(3, 64, kernel_size=11, stride=4, padding=2),\n",
    "            nn.ReLU(inplace=True),\n",
    "            nn.MaxPool2d(kernel_size=3, stride=2),\n",
    "            nn.Conv2d(64, 192, kernel_size=5, padding=2),\n",
    "            nn.ReLU(inplace=True),\n",
    "            nn.MaxPool2d(kernel_size=3, stride=2),\n",
    "            nn.Conv2d(192, 384, kernel_size=3, padding=1),\n",
    "            nn.ReLU(inplace=True),\n",
    "            nn.Conv2d(384, 256, kernel_size=3, padding=1),\n",
    "            nn.ReLU(inplace=True),\n",
    "            nn.Conv2d(256, 256, kernel_size=3, padding=1),\n",
    "            nn.ReLU(inplace=True),\n",
    "            nn.MaxPool2d(kernel_size=3, stride=2)\n",
    "        )\n",
    "        self.avgpool = nn.AdaptiveAvgPool2d((6, 6))\n",
    "        self.classifier = nn.Sequential(\n",
    "            nn.Dropout(0),\n",
    "            nn.Linear(256 * 6 * 6, 4096),\n",
    "            nn.ReLU(inplace=True),\n",
    "            nn.Dropout(0),\n",
    "            nn.Linear(4096, 4096),\n",
    "            nn.ReLU(inplace=True),\n",
    "            nn.Linear(4096, num_classes),\n",
    "        )\n",
    "    def forward(self, x):\n",
    "        x = self.features(x)\n",
    "        x = self.avgpool(x)\n",
    "        x = torch.flatten(x, 1)\n",
    "        x = self.classifier(x)\n",
    "        return x\n",
    "    \n",
    "    def getfeatures(self, x):\n",
    "        x = self.features(x)\n",
    "        x = self.avgpool(x)\n",
    "        x = torch.flatten(x, 1)\n",
    "        return x\n",
    "    \n",
    "    def predict(self, x):\n",
    "        if type(x) == torch.Tensor:\n",
    "            _, x = torch.max(x, dim=1) \n",
    "        with open(f'{path}/Networks/imagenet1000classes.txt') as f:\n",
    "            cl = f.readlines()\n",
    "        return cl[x]\n",
    "    def run(self, x, n):\n",
    "        for j in range(n):\n",
    "            x = self.features[j](x)\n",
    "        return x\n",
    "\n",
    "def alexnet_trained(pretrained=False, **kwargs):\n",
    "    r\"\"\"AlexNet model architecture from the\n",
    "    `\"One weird trick...\" <https://arxiv.org/abs/1404.5997>`_ paper.\n",
    "\n",
    "    Args:\n",
    "        pretrained (bool): If True, returns a model pre-trained on ImageNet\n",
    "    \"\"\"\n",
    "    model = AlexNet(**kwargs)\n",
    "    if pretrained:\n",
    "        try:\n",
    "            model.load_state_dict(torch.load(f'{path}/../Networks/alexnet-owt-4df8aa71.pth'))\n",
    "            # model.load_state_dict(load_state_dict_from_url(model_urls['alexnet'], progress=progress))\n",
    "            print('Loaded pretrained weights')\n",
    "        except:\n",
    "            print('Weights not loaded')\n",
    "    return model"
   ]
  },
  {
   "cell_type": "code",
   "execution_count": 25,
   "metadata": {
    "colab": {
     "base_uri": "https://localhost:8080/"
    },
    "executionInfo": {
     "elapsed": 6485,
     "status": "ok",
     "timestamp": 1613462261128,
     "user": {
      "displayName": "Anton Vladyka",
      "photoUrl": "https://lh3.googleusercontent.com/a-/AOh14Gh23ADXPQ9T1DR8tKeqMhyt-bqv_-5iQ_KLfkvAyw=s64",
      "userId": "07862627771254057760"
     },
     "user_tz": -120
    },
    "id": "19F0W4sh8oA1",
    "outputId": "ea446162-252d-4cb1-e235-94e913224b64"
   },
   "outputs": [
    {
     "name": "stdout",
     "output_type": "stream",
     "text": [
      "Loaded pretrained weights\n"
     ]
    }
   ],
   "source": [
    "# Loading AlexNet with pretrained weights\n",
    "anet = alexnet_trained(True).to(device)"
   ]
  },
  {
   "cell_type": "markdown",
   "metadata": {
    "id": "i5S39CELVwZV"
   },
   "source": [
    "### Get the features"
   ]
  },
  {
   "cell_type": "code",
   "execution_count": 26,
   "metadata": {
    "executionInfo": {
     "elapsed": 594,
     "status": "ok",
     "timestamp": 1613462311868,
     "user": {
      "displayName": "Anton Vladyka",
      "photoUrl": "https://lh3.googleusercontent.com/a-/AOh14Gh23ADXPQ9T1DR8tKeqMhyt-bqv_-5iQ_KLfkvAyw=s64",
      "userId": "07862627771254057760"
     },
     "user_tz": -120
    },
    "id": "jZH_SC5T8qJq"
   },
   "outputs": [],
   "source": [
    "# generator of images \n",
    "data = Loader(images,100)"
   ]
  },
  {
   "cell_type": "code",
   "execution_count": 27,
   "metadata": {
    "executionInfo": {
     "elapsed": 359,
     "status": "ok",
     "timestamp": 1613462311871,
     "user": {
      "displayName": "Anton Vladyka",
      "photoUrl": "https://lh3.googleusercontent.com/a-/AOh14Gh23ADXPQ9T1DR8tKeqMhyt-bqv_-5iQ_KLfkvAyw=s64",
      "userId": "07862627771254057760"
     },
     "user_tz": -120
    },
    "id": "1AOKV3o2A0lu"
   },
   "outputs": [],
   "source": [
    "# allocate torch tensor for storing features\n",
    "features = torch.zeros((N, 9216)).to(device)"
   ]
  },
  {
   "cell_type": "code",
   "execution_count": 28,
   "metadata": {
    "executionInfo": {
     "elapsed": 663,
     "status": "ok",
     "timestamp": 1613462313694,
     "user": {
      "displayName": "Anton Vladyka",
      "photoUrl": "https://lh3.googleusercontent.com/a-/AOh14Gh23ADXPQ9T1DR8tKeqMhyt-bqv_-5iQ_KLfkvAyw=s64",
      "userId": "07862627771254057760"
     },
     "user_tz": -120
    },
    "id": "CJMLgBM89ySM"
   },
   "outputs": [],
   "source": [
    "for chunk, inds in data:\n",
    "    out = anet.getfeatures(chunk)\n",
    "    features[inds, :] = out"
   ]
  },
  {
   "cell_type": "code",
   "execution_count": 29,
   "metadata": {
    "executionInfo": {
     "elapsed": 422,
     "status": "ok",
     "timestamp": 1613462323234,
     "user": {
      "displayName": "Anton Vladyka",
      "photoUrl": "https://lh3.googleusercontent.com/a-/AOh14Gh23ADXPQ9T1DR8tKeqMhyt-bqv_-5iQ_KLfkvAyw=s64",
      "userId": "07862627771254057760"
     },
     "user_tz": -120
    },
    "id": "jIYN53SY9BOW"
   },
   "outputs": [],
   "source": [
    "# remove unnecessary alexnet\n",
    "del anet"
   ]
  },
  {
   "cell_type": "code",
   "execution_count": 30,
   "metadata": {
    "colab": {
     "base_uri": "https://localhost:8080/",
     "height": 35
    },
    "executionInfo": {
     "elapsed": 452,
     "status": "ok",
     "timestamp": 1613462344931,
     "user": {
      "displayName": "Anton Vladyka",
      "photoUrl": "https://lh3.googleusercontent.com/a-/AOh14Gh23ADXPQ9T1DR8tKeqMhyt-bqv_-5iQ_KLfkvAyw=s64",
      "userId": "07862627771254057760"
     },
     "user_tz": -120
    },
    "id": "njuZW33ZoDX4",
    "outputId": "a0323fd2-db69-4db6-ef1b-4386d7b2d9e3"
   },
   "outputs": [
    {
     "data": {
      "text/plain": [
       "'\\n    Save features if necessary\\n'"
      ]
     },
     "execution_count": 30,
     "metadata": {},
     "output_type": "execute_result"
    }
   ],
   "source": [
    "'''\n",
    "    Save features if necessary\n",
    "'''\n",
    "#np.savez(f'{path}/data/features_{name}_{N}', features=features.cpu().data.numpy())\n",
    "#np.savez(f'{path}/data/all_{name}_{N}', features=features.cpu().data.numpy(), structures=structures, spectra=spectra, z = z, indices=indices)"
   ]
  },
  {
   "cell_type": "code",
   "execution_count": 31,
   "metadata": {
    "colab": {
     "base_uri": "https://localhost:8080/"
    },
    "executionInfo": {
     "elapsed": 337,
     "status": "ok",
     "timestamp": 1613462374553,
     "user": {
      "displayName": "Anton Vladyka",
      "photoUrl": "https://lh3.googleusercontent.com/a-/AOh14Gh23ADXPQ9T1DR8tKeqMhyt-bqv_-5iQ_KLfkvAyw=s64",
      "userId": "07862627771254057760"
     },
     "user_tz": -120
    },
    "id": "6ScIlx_lZCq5",
    "outputId": "3dbb61f0-7c30-4a2f-9f4a-fdae908436d7"
   },
   "outputs": [
    {
     "data": {
      "text/plain": [
       "((120, 1000), torch.Size([1000, 9216]), (1000, 3))"
      ]
     },
     "execution_count": 31,
     "metadata": {},
     "output_type": "execute_result"
    }
   ],
   "source": [
    "spectra.shape, features.shape, structures.shape"
   ]
  },
  {
   "cell_type": "code",
   "execution_count": 33,
   "metadata": {},
   "outputs": [
    {
     "data": {
      "text/plain": [
       "(1000, 3)"
      ]
     },
     "execution_count": 33,
     "metadata": {},
     "output_type": "execute_result"
    }
   ],
   "source": []
  },
  {
   "cell_type": "markdown",
   "metadata": {
    "id": "2Gjwkm8zPRsD"
   },
   "source": [
    "## Structure Predictor"
   ]
  },
  {
   "cell_type": "code",
   "execution_count": 34,
   "metadata": {
    "executionInfo": {
     "elapsed": 386,
     "status": "ok",
     "timestamp": 1613462655770,
     "user": {
      "displayName": "Anton Vladyka",
      "photoUrl": "https://lh3.googleusercontent.com/a-/AOh14Gh23ADXPQ9T1DR8tKeqMhyt-bqv_-5iQ_KLfkvAyw=s64",
      "userId": "07862627771254057760"
     },
     "user_tz": -120
    },
    "id": "868QWlNiPRsE"
   },
   "outputs": [],
   "source": [
    "'''\n",
    "    Predictor is a simple feedforward network linking features extracted by \n",
    "    AlexNet to the structural parameters of the molecule (alpha, b_l, b_s)\n",
    "'''\n",
    "\n",
    "class Predictor(nn.Module):\n",
    "    def __init__(self): \n",
    "        super(Predictor, self).__init__()\n",
    "        self.features = nn.Sequential(\n",
    "            nn.Linear(9216, 512),\n",
    "            nn.ReLU(inplace=True),\n",
    "            #nn.Dropout(),\n",
    "            nn.Linear(512, 256),\n",
    "            nn.ReLU(inplace=True),\n",
    "            #nn.Dropout(),\n",
    "            #nn.Linear(512, 128),\n",
    "            #nn.ReLU(inplace=True),\n",
    "            nn.Linear(256, 3)\n",
    "            )\n",
    "    def forward(self, x):\n",
    "        x = self.features(x)\n",
    "        return x\n",
    "    def scaler(self, mean, std):\n",
    "        self.mean = mean\n",
    "        self.std = std"
   ]
  },
  {
   "cell_type": "code",
   "execution_count": 35,
   "metadata": {
    "executionInfo": {
     "elapsed": 434,
     "status": "ok",
     "timestamp": 1613462625024,
     "user": {
      "displayName": "Anton Vladyka",
      "photoUrl": "https://lh3.googleusercontent.com/a-/AOh14Gh23ADXPQ9T1DR8tKeqMhyt-bqv_-5iQ_KLfkvAyw=s64",
      "userId": "07862627771254057760"
     },
     "user_tz": -120
    },
    "id": "0fz1_NYqPRsE"
   },
   "outputs": [],
   "source": [
    "# data scaler instead of StandardScaler\n",
    "class Scaler(object):\n",
    "    def __init__(self, data):\n",
    "        if len(data) == 2:\n",
    "            self.mean = data[0]\n",
    "            self.std = data[1]\n",
    "        else:\n",
    "            self.mean = np.mean(data, axis=0)\n",
    "            self.std = np.std(data, axis=0)\n",
    "    def transform(self, data):\n",
    "        return (data - self.mean)/self.std\n",
    "    def invtransform(self, data):\n",
    "        return data * self.std + self.mean"
   ]
  },
  {
   "cell_type": "code",
   "execution_count": 36,
   "metadata": {
    "executionInfo": {
     "elapsed": 356,
     "status": "ok",
     "timestamp": 1613462625244,
     "user": {
      "displayName": "Anton Vladyka",
      "photoUrl": "https://lh3.googleusercontent.com/a-/AOh14Gh23ADXPQ9T1DR8tKeqMhyt-bqv_-5iQ_KLfkvAyw=s64",
      "userId": "07862627771254057760"
     },
     "user_tz": -120
    },
    "id": "30Srb21WPRsG"
   },
   "outputs": [],
   "source": [
    "# split the data into training (80%) and testing (20%) sets\n",
    "M = (9 * N) // 10\n",
    "ind_train = range(M)\n",
    "ind_test = range(M,N)\n",
    "train_out = structures[ind_train, :]\n",
    "test_out = structures[ind_test, :]\n",
    "train_data = features[ind_train, :]\n",
    "test_data = features[ind_test, :]"
   ]
  },
  {
   "cell_type": "code",
   "execution_count": 37,
   "metadata": {
    "executionInfo": {
     "elapsed": 388,
     "status": "ok",
     "timestamp": 1613462625908,
     "user": {
      "displayName": "Anton Vladyka",
      "photoUrl": "https://lh3.googleusercontent.com/a-/AOh14Gh23ADXPQ9T1DR8tKeqMhyt-bqv_-5iQ_KLfkvAyw=s64",
      "userId": "07862627771254057760"
     },
     "user_tz": -120
    },
    "id": "ym9rBbtQVesu"
   },
   "outputs": [],
   "source": [
    "scaler = Scaler(train_out)\n",
    "train_out_scaled = torch.tensor(scaler.transform(train_out), dtype=torch.float).to(device)"
   ]
  },
  {
   "cell_type": "code",
   "execution_count": 38,
   "metadata": {
    "colab": {
     "base_uri": "https://localhost:8080/"
    },
    "executionInfo": {
     "elapsed": 441,
     "status": "ok",
     "timestamp": 1613462643320,
     "user": {
      "displayName": "Anton Vladyka",
      "photoUrl": "https://lh3.googleusercontent.com/a-/AOh14Gh23ADXPQ9T1DR8tKeqMhyt-bqv_-5iQ_KLfkvAyw=s64",
      "userId": "07862627771254057760"
     },
     "user_tz": -120
    },
    "id": "_XT796RSPRsH",
    "outputId": "a671a3d8-2f1e-4ccb-f90c-2a912eaf1932"
   },
   "outputs": [
    {
     "data": {
      "text/plain": [
       "(torch.Size([900, 9216]),\n",
       " torch.Size([100, 9216]),\n",
       " torch.Size([900, 3]),\n",
       " (100, 3))"
      ]
     },
     "execution_count": 38,
     "metadata": {},
     "output_type": "execute_result"
    }
   ],
   "source": [
    "# check the dimenssions of the data\n",
    "train_data.shape, test_data.shape, train_out_scaled.shape, test_out.shape"
   ]
  },
  {
   "cell_type": "code",
   "execution_count": 39,
   "metadata": {
    "executionInfo": {
     "elapsed": 435,
     "status": "ok",
     "timestamp": 1613462674171,
     "user": {
      "displayName": "Anton Vladyka",
      "photoUrl": "https://lh3.googleusercontent.com/a-/AOh14Gh23ADXPQ9T1DR8tKeqMhyt-bqv_-5iQ_KLfkvAyw=s64",
      "userId": "07862627771254057760"
     },
     "user_tz": -120
    },
    "id": "YcHLK1O5PRsI"
   },
   "outputs": [],
   "source": [
    "# Create a new instance of the Predictor\n",
    "try:\n",
    "    del predictor\n",
    "except:\n",
    "    pass\n",
    "predictor = Predictor().to(device)"
   ]
  },
  {
   "cell_type": "code",
   "execution_count": 40,
   "metadata": {
    "executionInfo": {
     "elapsed": 441,
     "status": "ok",
     "timestamp": 1613462687802,
     "user": {
      "displayName": "Anton Vladyka",
      "photoUrl": "https://lh3.googleusercontent.com/a-/AOh14Gh23ADXPQ9T1DR8tKeqMhyt-bqv_-5iQ_KLfkvAyw=s64",
      "userId": "07862627771254057760"
     },
     "user_tz": -120
    },
    "id": "7QqQA5TNPRsI"
   },
   "outputs": [],
   "source": [
    "# define otraining parameters\n",
    "optimizer = optim.Adam(predictor.parameters(), lr=0.0001, weight_decay=0.001)\n",
    "loss_fun = torch.nn.MSELoss()"
   ]
  },
  {
   "cell_type": "code",
   "execution_count": 41,
   "metadata": {
    "colab": {
     "base_uri": "https://localhost:8080/"
    },
    "executionInfo": {
     "elapsed": 144434,
     "status": "ok",
     "timestamp": 1613462845670,
     "user": {
      "displayName": "Anton Vladyka",
      "photoUrl": "https://lh3.googleusercontent.com/a-/AOh14Gh23ADXPQ9T1DR8tKeqMhyt-bqv_-5iQ_KLfkvAyw=s64",
      "userId": "07862627771254057760"
     },
     "user_tz": -120
    },
    "id": "efTQawrbPRsI",
    "outputId": "ec4381e2-d188-416e-9601-7863f474958c"
   },
   "outputs": [
    {
     "name": "stderr",
     "output_type": "stream",
     "text": [
      "100%|██████████████████████████████████████████████████████████████████████████████| 200/200 [1:54:04<00:00, 34.22s/it]\n"
     ]
    }
   ],
   "source": [
    "# Train with early stopping\n",
    "running_loss = 0.0\n",
    "#torch.autograd.set_detect_anomaly(True)\n",
    "# get the inputs\n",
    "train_losses = []\n",
    "last_loss = 10\n",
    "for j in trange(200):\n",
    "    dataloader = dataLoader(train_data,250)\n",
    "    batch_losses = []\n",
    "    for xx, yy in dataloader:\n",
    "        optimizer.zero_grad()\n",
    "        output = predictor(xx)\n",
    "        loss = loss_fun(output, train_out_scaled[yy, :])\n",
    "        loss.backward(retain_graph=True)\n",
    "        #loss.backward()\n",
    "        optimizer.step()\n",
    "        running_loss = loss.item()\n",
    "        batch_losses.append(running_loss)\n",
    "    batch_loss = sum(batch_losses)/len(batch_losses)\n",
    "    if j > 10:\n",
    "        d = last_loss - batch_loss \n",
    "        if (d > 0) and (d < 2E-5):\n",
    "            break\n",
    "    last_loss = batch_loss\n",
    "    train_losses.append(batch_loss)"
   ]
  },
  {
   "cell_type": "code",
   "execution_count": 42,
   "metadata": {
    "colab": {
     "base_uri": "https://localhost:8080/",
     "height": 252
    },
    "executionInfo": {
     "elapsed": 966,
     "status": "ok",
     "timestamp": 1613462917991,
     "user": {
      "displayName": "Anton Vladyka",
      "photoUrl": "https://lh3.googleusercontent.com/a-/AOh14Gh23ADXPQ9T1DR8tKeqMhyt-bqv_-5iQ_KLfkvAyw=s64",
      "userId": "07862627771254057760"
     },
     "user_tz": -120
    },
    "id": "rB33_t8KPRsJ",
    "outputId": "6f3c9ccc-757a-4dbc-8ebb-52d00dfd6ae7"
   },
   "outputs": [
    {
     "name": "stdout",
     "output_type": "stream",
     "text": [
      "0.0011663344921544194\n"
     ]
    },
    {
     "data": {
      "text/plain": [
       "[<matplotlib.lines.Line2D at 0x20080996bb0>]"
      ]
     },
     "execution_count": 42,
     "metadata": {},
     "output_type": "execute_result"
    },
    {
     "data": {
      "image/png": "[encoded data removed]",
      "text/plain": [
       "<Figure size 224x224 with 1 Axes>"
      ]
     },
     "metadata": {
      "needs_background": "light"
     },
     "output_type": "display_data"
    }
   ],
   "source": [
    "print(d)\n",
    "plt.plot(train_losses)"
   ]
  },
  {
   "cell_type": "code",
   "execution_count": 43,
   "metadata": {
    "executionInfo": {
     "elapsed": 415,
     "status": "ok",
     "timestamp": 1613462928439,
     "user": {
      "displayName": "Anton Vladyka",
      "photoUrl": "https://lh3.googleusercontent.com/a-/AOh14Gh23ADXPQ9T1DR8tKeqMhyt-bqv_-5iQ_KLfkvAyw=s64",
      "userId": "07862627771254057760"
     },
     "user_tz": -120
    },
    "id": "REy8r4DjPRsK"
   },
   "outputs": [],
   "source": [
    "pred = predictor(test_data).cpu().data.numpy()\n",
    "predicted = scaler.invtransform(pred)"
   ]
  },
  {
   "cell_type": "code",
   "execution_count": 44,
   "metadata": {
    "colab": {
     "base_uri": "https://localhost:8080/"
    },
    "executionInfo": {
     "elapsed": 511,
     "status": "ok",
     "timestamp": 1613462932664,
     "user": {
      "displayName": "Anton Vladyka",
      "photoUrl": "https://lh3.googleusercontent.com/a-/AOh14Gh23ADXPQ9T1DR8tKeqMhyt-bqv_-5iQ_KLfkvAyw=s64",
      "userId": "07862627771254057760"
     },
     "user_tz": -120
    },
    "id": "pdzW6vp5Q-OR",
    "outputId": "d5e6b110-e2e0-411b-974c-eea161f0e945"
   },
   "outputs": [
    {
     "data": {
      "text/plain": [
       "((100, 3), (100, 3))"
      ]
     },
     "execution_count": 44,
     "metadata": {},
     "output_type": "execute_result"
    }
   ],
   "source": [
    "predicted.shape, test_out.shape"
   ]
  },
  {
   "cell_type": "code",
   "execution_count": 46,
   "metadata": {
    "colab": {
     "base_uri": "https://localhost:8080/",
     "height": 358
    },
    "executionInfo": {
     "elapsed": 2102,
     "status": "ok",
     "timestamp": 1613462956779,
     "user": {
      "displayName": "Anton Vladyka",
      "photoUrl": "https://lh3.googleusercontent.com/a-/AOh14Gh23ADXPQ9T1DR8tKeqMhyt-bqv_-5iQ_KLfkvAyw=s64",
      "userId": "07862627771254057760"
     },
     "user_tz": -120
    },
    "id": "otRCKHtTROJD",
    "outputId": "bed5390d-86c3-40ab-9165-affaf8952dd4"
   },
   "outputs": [
    {
     "data": {
      "image/png": "[encoded data removed]",
      "text/plain": [
       "<Figure size 1080x324 with 3 Axes>"
      ]
     },
     "metadata": {
      "needs_background": "light"
     },
     "output_type": "display_data"
    }
   ],
   "source": [
    "titles = [rf'$\\alpha$ (deg)', r'$B_S (\\AA)$', r'$B_L (\\AA)$']\n",
    "plt.rcParams['figure.figsize'] = (15, 4.5)\n",
    "#X = scaler.invtransform(train_out.cpu().data.numpy())\n",
    "for j in range(3):\n",
    "    plt.subplot(1,3,j+1)\n",
    "    x = test_out[:, j]\n",
    "    #x = X[:, j]\n",
    "    y = predicted[:, j]\n",
    "    plt.scatter(x, y, alpha=0.25)\n",
    "    plt.plot([x.min(), x.max()], [x.min(), x.max()], 'k--')\n",
    "    plt.title(titles[j], fontsize=14)\n",
    "    plt.xlabel('Known', fontsize=12)\n",
    "    if j == 0:\n",
    "        plt.ylabel('Predicted', fontsize=12)\n",
    "#plt.savefig(f'{path}/predicted_lowt_{N}_tolowt.png', bbox_inches='tight', dpi=300)"
   ]
  },
  {
   "cell_type": "code",
   "execution_count": null,
   "metadata": {},
   "outputs": [],
   "source": []
  }
 ],
 "metadata": {
  "accelerator": "GPU",
  "colab": {
   "collapsed_sections": [],
   "name": "alexnet_structure_prediction.ipynb",
   "provenance": [
    {
     "file_id": "1ihfGQkkCtLQEFHwrkgS8qrVSHQ8df7uF",
     "timestamp": 1605799320126
    },
    {
     "file_id": "1QAdDr-BVjPB5GSKWCh4i8-643LZN5MsQ",
     "timestamp": 1605194573483
    }
   ],
   "toc_visible": true
  },
  "kernelspec": {
   "display_name": "Python 3",
   "language": "python",
   "name": "python3"
  },
  "language_info": {
   "codemirror_mode": {
    "name": "ipython",
    "version": 3
   },
   "file_extension": ".py",
   "mimetype": "text/x-python",
   "name": "python",
   "nbconvert_exporter": "python",
   "pygments_lexer": "ipython3",
   "version": "3.8.5"
  }
 },
 "nbformat": 4,
 "nbformat_minor": 1
}
